{
 "cells": [
  {
   "cell_type": "code",
   "execution_count": 1,
   "metadata": {},
   "outputs": [
    {
     "data": {
      "text/html": [
       "<div>\n",
       "<style scoped>\n",
       "    .dataframe tbody tr th:only-of-type {\n",
       "        vertical-align: middle;\n",
       "    }\n",
       "\n",
       "    .dataframe tbody tr th {\n",
       "        vertical-align: top;\n",
       "    }\n",
       "\n",
       "    .dataframe thead th {\n",
       "        text-align: right;\n",
       "    }\n",
       "</style>\n",
       "<table border=\"1\" class=\"dataframe\">\n",
       "  <thead>\n",
       "    <tr style=\"text-align: right;\">\n",
       "      <th></th>\n",
       "      <th>Purchase ID</th>\n",
       "      <th>SN</th>\n",
       "      <th>Age</th>\n",
       "      <th>Gender</th>\n",
       "      <th>Item ID</th>\n",
       "      <th>Item Name</th>\n",
       "      <th>Price</th>\n",
       "    </tr>\n",
       "  </thead>\n",
       "  <tbody>\n",
       "    <tr>\n",
       "      <th>0</th>\n",
       "      <td>0</td>\n",
       "      <td>Lisim78</td>\n",
       "      <td>20</td>\n",
       "      <td>Male</td>\n",
       "      <td>108</td>\n",
       "      <td>Extraction, Quickblade Of Trembling Hands</td>\n",
       "      <td>3.53</td>\n",
       "    </tr>\n",
       "    <tr>\n",
       "      <th>1</th>\n",
       "      <td>1</td>\n",
       "      <td>Lisovynya38</td>\n",
       "      <td>40</td>\n",
       "      <td>Male</td>\n",
       "      <td>143</td>\n",
       "      <td>Frenzied Scimitar</td>\n",
       "      <td>1.56</td>\n",
       "    </tr>\n",
       "    <tr>\n",
       "      <th>2</th>\n",
       "      <td>2</td>\n",
       "      <td>Ithergue48</td>\n",
       "      <td>24</td>\n",
       "      <td>Male</td>\n",
       "      <td>92</td>\n",
       "      <td>Final Critic</td>\n",
       "      <td>4.88</td>\n",
       "    </tr>\n",
       "    <tr>\n",
       "      <th>3</th>\n",
       "      <td>3</td>\n",
       "      <td>Chamassasya86</td>\n",
       "      <td>24</td>\n",
       "      <td>Male</td>\n",
       "      <td>100</td>\n",
       "      <td>Blindscythe</td>\n",
       "      <td>3.27</td>\n",
       "    </tr>\n",
       "    <tr>\n",
       "      <th>4</th>\n",
       "      <td>4</td>\n",
       "      <td>Iskosia90</td>\n",
       "      <td>23</td>\n",
       "      <td>Male</td>\n",
       "      <td>131</td>\n",
       "      <td>Fury</td>\n",
       "      <td>1.44</td>\n",
       "    </tr>\n",
       "    <tr>\n",
       "      <th>5</th>\n",
       "      <td>5</td>\n",
       "      <td>Yalae81</td>\n",
       "      <td>22</td>\n",
       "      <td>Male</td>\n",
       "      <td>81</td>\n",
       "      <td>Dreamkiss</td>\n",
       "      <td>3.61</td>\n",
       "    </tr>\n",
       "    <tr>\n",
       "      <th>6</th>\n",
       "      <td>6</td>\n",
       "      <td>Itheria73</td>\n",
       "      <td>36</td>\n",
       "      <td>Male</td>\n",
       "      <td>169</td>\n",
       "      <td>Interrogator, Blood Blade of the Queen</td>\n",
       "      <td>2.18</td>\n",
       "    </tr>\n",
       "    <tr>\n",
       "      <th>7</th>\n",
       "      <td>7</td>\n",
       "      <td>Iskjaskst81</td>\n",
       "      <td>20</td>\n",
       "      <td>Male</td>\n",
       "      <td>162</td>\n",
       "      <td>Abyssal Shard</td>\n",
       "      <td>2.67</td>\n",
       "    </tr>\n",
       "    <tr>\n",
       "      <th>8</th>\n",
       "      <td>8</td>\n",
       "      <td>Undjask33</td>\n",
       "      <td>22</td>\n",
       "      <td>Male</td>\n",
       "      <td>21</td>\n",
       "      <td>Souleater</td>\n",
       "      <td>1.10</td>\n",
       "    </tr>\n",
       "    <tr>\n",
       "      <th>9</th>\n",
       "      <td>9</td>\n",
       "      <td>Chanosian48</td>\n",
       "      <td>35</td>\n",
       "      <td>Other / Non-Disclosed</td>\n",
       "      <td>136</td>\n",
       "      <td>Ghastly Adamantite Protector</td>\n",
       "      <td>3.58</td>\n",
       "    </tr>\n",
       "  </tbody>\n",
       "</table>\n",
       "</div>"
      ],
      "text/plain": [
       "   Purchase ID             SN  Age                 Gender  Item ID  \\\n",
       "0            0        Lisim78   20                   Male      108   \n",
       "1            1    Lisovynya38   40                   Male      143   \n",
       "2            2     Ithergue48   24                   Male       92   \n",
       "3            3  Chamassasya86   24                   Male      100   \n",
       "4            4      Iskosia90   23                   Male      131   \n",
       "5            5        Yalae81   22                   Male       81   \n",
       "6            6      Itheria73   36                   Male      169   \n",
       "7            7    Iskjaskst81   20                   Male      162   \n",
       "8            8      Undjask33   22                   Male       21   \n",
       "9            9    Chanosian48   35  Other / Non-Disclosed      136   \n",
       "\n",
       "                                   Item Name  Price  \n",
       "0  Extraction, Quickblade Of Trembling Hands   3.53  \n",
       "1                          Frenzied Scimitar   1.56  \n",
       "2                               Final Critic   4.88  \n",
       "3                                Blindscythe   3.27  \n",
       "4                                       Fury   1.44  \n",
       "5                                  Dreamkiss   3.61  \n",
       "6     Interrogator, Blood Blade of the Queen   2.18  \n",
       "7                              Abyssal Shard   2.67  \n",
       "8                                  Souleater   1.10  \n",
       "9               Ghastly Adamantite Protector   3.58  "
      ]
     },
     "execution_count": 1,
     "metadata": {},
     "output_type": "execute_result"
    }
   ],
   "source": [
    "# Dependencies and Setup\n",
    "import pandas as pd\n",
    "\n",
    "# File to Load\n",
    "file = \"Resources/purchase_data.csv\"\n",
    "\n",
    "# Read Purchasing File and store into Pandas data frame\n",
    "df = pd.read_csv(file) \n",
    "df.head(10)"
   ]
  },
  {
   "cell_type": "markdown",
   "metadata": {},
   "source": [
    "## Player Count"
   ]
  },
  {
   "cell_type": "markdown",
   "metadata": {},
   "source": [
    "* Display the total number of players\n"
   ]
  },
  {
   "cell_type": "code",
   "execution_count": 2,
   "metadata": {},
   "outputs": [
    {
     "data": {
      "text/plain": [
       "576"
      ]
     },
     "execution_count": 2,
     "metadata": {},
     "output_type": "execute_result"
    }
   ],
   "source": [
    "total_players = df.nunique()['SN']\n",
    "total_players"
   ]
  },
  {
   "cell_type": "markdown",
   "metadata": {},
   "source": [
    "## Purchasing Analysis (Total)"
   ]
  },
  {
   "cell_type": "markdown",
   "metadata": {},
   "source": [
    "* Run basic calculations to obtain number of unique items, average price, etc.\n",
    "\n",
    "\n",
    "* Create a summary data frame to hold the results\n",
    "\n",
    "\n",
    "* Optional: give the displayed data cleaner formatting\n",
    "\n",
    "\n",
    "* Display the summary data frame\n"
   ]
  },
  {
   "cell_type": "code",
   "execution_count": 3,
   "metadata": {
    "scrolled": true
   },
   "outputs": [
    {
     "data": {
      "text/html": [
       "<style  type=\"text/css\" >\n",
       "</style><table id=\"T_436d1faa_de25_11e9_9afb_acde48001122\" ><thead>    <tr>        <th class=\"blank level0\" ></th>        <th class=\"col_heading level0 col0\" >Number of Unique Items</th>        <th class=\"col_heading level0 col1\" >Average Price</th>        <th class=\"col_heading level0 col2\" >Number of Purchases</th>        <th class=\"col_heading level0 col3\" >Total Revenue</th>    </tr></thead><tbody>\n",
       "                <tr>\n",
       "                        <th id=\"T_436d1faa_de25_11e9_9afb_acde48001122level0_row0\" class=\"row_heading level0 row0\" >0</th>\n",
       "                        <td id=\"T_436d1faa_de25_11e9_9afb_acde48001122row0_col0\" class=\"data row0 col0\" >183</td>\n",
       "                        <td id=\"T_436d1faa_de25_11e9_9afb_acde48001122row0_col1\" class=\"data row0 col1\" >$3.05</td>\n",
       "                        <td id=\"T_436d1faa_de25_11e9_9afb_acde48001122row0_col2\" class=\"data row0 col2\" >780</td>\n",
       "                        <td id=\"T_436d1faa_de25_11e9_9afb_acde48001122row0_col3\" class=\"data row0 col3\" >$2,379.77</td>\n",
       "            </tr>\n",
       "    </tbody></table>"
      ],
      "text/plain": [
       "<pandas.io.formats.style.Styler at 0x11c5e3dd8>"
      ]
     },
     "execution_count": 3,
     "metadata": {},
     "output_type": "execute_result"
    }
   ],
   "source": [
    "#Number of Unique Items  Average Price   Number of Purchases     Total Revenue\n",
    "#     183                $3.05           780                     $2,379.77\n",
    "\n",
    "num_unique_items = len(df['Item ID'].unique())\n",
    "average_price = df['Price'].mean() \n",
    "num_purchases = df['Purchase ID'].count()\n",
    "total_revenue = df['Price'].sum()\n",
    "\n",
    "summary = pd.DataFrame({\n",
    "    'Number of Unique Items' : [num_unique_items],\n",
    "    'Average Price' : [average_price],\n",
    "    'Number of Purchases' : [num_purchases],\n",
    "    'Total Revenue' : [total_revenue]\n",
    "})\n",
    "\n",
    "summary.style.format({\n",
    "    'Average Price' : \"${:,.2f}\",\n",
    "    'Total Revenue' : \"${:,.2f}\"\n",
    "})"
   ]
  },
  {
   "cell_type": "markdown",
   "metadata": {},
   "source": [
    "## Gender Demographics"
   ]
  },
  {
   "cell_type": "markdown",
   "metadata": {},
   "source": [
    "* Percentage and Count of Male Players\n",
    "\n",
    "\n",
    "* Percentage and Count of Female Players\n",
    "\n",
    "\n",
    "* Percentage and Count of Other / Non-Disclosed\n",
    "\n",
    "\n"
   ]
  },
  {
   "cell_type": "code",
   "execution_count": 5,
   "metadata": {},
   "outputs": [
    {
     "data": {
      "text/html": [
       "<style  type=\"text/css\" >\n",
       "</style><table id=\"T_5a355ffe_de25_11e9_9afb_acde48001122\" ><thead>    <tr>        <th class=\"blank level0\" ></th>        <th class=\"col_heading level0 col0\" >Total Count</th>        <th class=\"col_heading level0 col1\" >Percentage of Players</th>    </tr>    <tr>        <th class=\"index_name level0\" >Gender</th>        <th class=\"blank\" ></th>        <th class=\"blank\" ></th>    </tr></thead><tbody>\n",
       "                <tr>\n",
       "                        <th id=\"T_5a355ffe_de25_11e9_9afb_acde48001122level0_row0\" class=\"row_heading level0 row0\" >Male</th>\n",
       "                        <td id=\"T_5a355ffe_de25_11e9_9afb_acde48001122row0_col0\" class=\"data row0 col0\" >484</td>\n",
       "                        <td id=\"T_5a355ffe_de25_11e9_9afb_acde48001122row0_col1\" class=\"data row0 col1\" >84.03 %</td>\n",
       "            </tr>\n",
       "            <tr>\n",
       "                        <th id=\"T_5a355ffe_de25_11e9_9afb_acde48001122level0_row1\" class=\"row_heading level0 row1\" >Female</th>\n",
       "                        <td id=\"T_5a355ffe_de25_11e9_9afb_acde48001122row1_col0\" class=\"data row1 col0\" >81</td>\n",
       "                        <td id=\"T_5a355ffe_de25_11e9_9afb_acde48001122row1_col1\" class=\"data row1 col1\" >14.06 %</td>\n",
       "            </tr>\n",
       "            <tr>\n",
       "                        <th id=\"T_5a355ffe_de25_11e9_9afb_acde48001122level0_row2\" class=\"row_heading level0 row2\" >Other / Non-Disclosed</th>\n",
       "                        <td id=\"T_5a355ffe_de25_11e9_9afb_acde48001122row2_col0\" class=\"data row2 col0\" >11</td>\n",
       "                        <td id=\"T_5a355ffe_de25_11e9_9afb_acde48001122row2_col1\" class=\"data row2 col1\" >1.91 %</td>\n",
       "            </tr>\n",
       "    </tbody></table>"
      ],
      "text/plain": [
       "<pandas.io.formats.style.Styler at 0x11c5fef60>"
      ]
     },
     "execution_count": 5,
     "metadata": {},
     "output_type": "execute_result"
    }
   ],
   "source": [
    "# players_df = df.drop_duplicates(['SN'])\n",
    "gender_dfg = df.groupby(\"Gender\")\n",
    "\n",
    "gender_counts = gender_dfg.nunique()[\"SN\"]\n",
    "percentage = gender_counts / total_players * 100\n",
    "\n",
    "summary_df = pd.DataFrame({\n",
    "    \"Total Count\" : gender_counts,\n",
    "    \"Percentage of Players\" : percentage\n",
    "})\n",
    "\n",
    "summary_df = summary_df.sort_values([\"Total Count\"], ascending = False)\n",
    "\n",
    "summary_df.style.format({\"Percentage of Players\":\"{:.2f} %\"})\n"
   ]
  },
  {
   "cell_type": "markdown",
   "metadata": {},
   "source": [
    "\n",
    "## Purchasing Analysis (Gender)"
   ]
  },
  {
   "cell_type": "markdown",
   "metadata": {},
   "source": [
    "* Run basic calculations to obtain purchase count, avg. purchase price, avg. purchase total per person etc. by gender\n",
    "\n",
    "\n",
    "\n",
    "\n",
    "* Create a summary data frame to hold the results\n",
    "\n",
    "\n",
    "* Optional: give the displayed data cleaner formatting\n",
    "\n",
    "\n",
    "* Display the summary data frame"
   ]
  },
  {
   "cell_type": "code",
   "execution_count": 6,
   "metadata": {
    "scrolled": true
   },
   "outputs": [
    {
     "data": {
      "text/html": [
       "<style  type=\"text/css\" >\n",
       "</style><table id=\"T_5e3cd032_de25_11e9_9afb_acde48001122\" ><thead>    <tr>        <th class=\"blank level0\" ></th>        <th class=\"col_heading level0 col0\" >Purchase Count</th>        <th class=\"col_heading level0 col1\" >Average Purchase Price</th>        <th class=\"col_heading level0 col2\" >Total Purchase Value</th>        <th class=\"col_heading level0 col3\" >Average Total Purchase Per Person</th>    </tr>    <tr>        <th class=\"index_name level0\" >Gender</th>        <th class=\"blank\" ></th>        <th class=\"blank\" ></th>        <th class=\"blank\" ></th>        <th class=\"blank\" ></th>    </tr></thead><tbody>\n",
       "                <tr>\n",
       "                        <th id=\"T_5e3cd032_de25_11e9_9afb_acde48001122level0_row0\" class=\"row_heading level0 row0\" >Female</th>\n",
       "                        <td id=\"T_5e3cd032_de25_11e9_9afb_acde48001122row0_col0\" class=\"data row0 col0\" >113</td>\n",
       "                        <td id=\"T_5e3cd032_de25_11e9_9afb_acde48001122row0_col1\" class=\"data row0 col1\" >$3.20</td>\n",
       "                        <td id=\"T_5e3cd032_de25_11e9_9afb_acde48001122row0_col2\" class=\"data row0 col2\" >$361.94</td>\n",
       "                        <td id=\"T_5e3cd032_de25_11e9_9afb_acde48001122row0_col3\" class=\"data row0 col3\" >$4.47</td>\n",
       "            </tr>\n",
       "            <tr>\n",
       "                        <th id=\"T_5e3cd032_de25_11e9_9afb_acde48001122level0_row1\" class=\"row_heading level0 row1\" >Male</th>\n",
       "                        <td id=\"T_5e3cd032_de25_11e9_9afb_acde48001122row1_col0\" class=\"data row1 col0\" >652</td>\n",
       "                        <td id=\"T_5e3cd032_de25_11e9_9afb_acde48001122row1_col1\" class=\"data row1 col1\" >$3.02</td>\n",
       "                        <td id=\"T_5e3cd032_de25_11e9_9afb_acde48001122row1_col2\" class=\"data row1 col2\" >$1,967.64</td>\n",
       "                        <td id=\"T_5e3cd032_de25_11e9_9afb_acde48001122row1_col3\" class=\"data row1 col3\" >$4.07</td>\n",
       "            </tr>\n",
       "            <tr>\n",
       "                        <th id=\"T_5e3cd032_de25_11e9_9afb_acde48001122level0_row2\" class=\"row_heading level0 row2\" >Other / Non-Disclosed</th>\n",
       "                        <td id=\"T_5e3cd032_de25_11e9_9afb_acde48001122row2_col0\" class=\"data row2 col0\" >15</td>\n",
       "                        <td id=\"T_5e3cd032_de25_11e9_9afb_acde48001122row2_col1\" class=\"data row2 col1\" >$3.35</td>\n",
       "                        <td id=\"T_5e3cd032_de25_11e9_9afb_acde48001122row2_col2\" class=\"data row2 col2\" >$50.19</td>\n",
       "                        <td id=\"T_5e3cd032_de25_11e9_9afb_acde48001122row2_col3\" class=\"data row2 col3\" >$4.56</td>\n",
       "            </tr>\n",
       "    </tbody></table>"
      ],
      "text/plain": [
       "<pandas.io.formats.style.Styler at 0x11d9f9b38>"
      ]
     },
     "execution_count": 6,
     "metadata": {},
     "output_type": "execute_result"
    }
   ],
   "source": [
    "gender_dfg = df.groupby(\"Gender\")\n",
    "\n",
    "purchase_count = gender_dfg[\"Purchase ID\"].count()\n",
    "price_average = gender_dfg[\"Price\"].mean()\n",
    "purchase_average_price = gender_dfg[\"Price\"].sum()\n",
    "\n",
    "ave_purchase_person = purchase_average_price / gender_counts\n",
    "\n",
    "summary = pd.DataFrame({\n",
    "    \"Purchase Count\" : purchase_count, \n",
    "    \"Average Purchase Price\" : price_average, \n",
    "    \"Total Purchase Value\" : purchase_average_price, \n",
    "    \"Average Total Purchase Per Person\" : ave_purchase_person\n",
    "})\n",
    "\n",
    "summary.style.format({\n",
    "    'Average Purchase Price' : '${:,.2f}',\n",
    "    'Total Purchase Value' : '${:,.2f}',\n",
    "    'Average Total Purchase Per Person' : '${:,.2f}'\n",
    "})\n"
   ]
  },
  {
   "cell_type": "markdown",
   "metadata": {},
   "source": [
    "## Age Demographics"
   ]
  },
  {
   "cell_type": "markdown",
   "metadata": {},
   "source": [
    "* Establish bins for ages\n",
    "\n",
    "\n",
    "* Categorize the existing players using the age bins. Hint: use pd.cut()\n",
    "\n",
    "\n",
    "* Calculate the numbers and percentages by age group\n",
    "\n",
    "\n",
    "* Create a summary data frame to hold the results\n",
    "\n",
    "\n",
    "* Optional: round the percentage column to two decimal points\n",
    "\n",
    "\n",
    "* Display Age Demographics Table\n"
   ]
  },
  {
   "cell_type": "code",
   "execution_count": 8,
   "metadata": {
    "scrolled": true
   },
   "outputs": [
    {
     "data": {
      "text/html": [
       "<style  type=\"text/css\" >\n",
       "</style><table id=\"T_77a7a34e_de25_11e9_9afb_acde48001122\" ><thead>    <tr>        <th class=\"blank level0\" ></th>        <th class=\"col_heading level0 col0\" >Total Count</th>        <th class=\"col_heading level0 col1\" >Percentage of Players</th>    </tr>    <tr>        <th class=\"index_name level0\" >Age Group</th>        <th class=\"blank\" ></th>        <th class=\"blank\" ></th>    </tr></thead><tbody>\n",
       "                <tr>\n",
       "                        <th id=\"T_77a7a34e_de25_11e9_9afb_acde48001122level0_row0\" class=\"row_heading level0 row0\" ><10</th>\n",
       "                        <td id=\"T_77a7a34e_de25_11e9_9afb_acde48001122row0_col0\" class=\"data row0 col0\" >17</td>\n",
       "                        <td id=\"T_77a7a34e_de25_11e9_9afb_acde48001122row0_col1\" class=\"data row0 col1\" >2.95%</td>\n",
       "            </tr>\n",
       "            <tr>\n",
       "                        <th id=\"T_77a7a34e_de25_11e9_9afb_acde48001122level0_row1\" class=\"row_heading level0 row1\" >10-14</th>\n",
       "                        <td id=\"T_77a7a34e_de25_11e9_9afb_acde48001122row1_col0\" class=\"data row1 col0\" >22</td>\n",
       "                        <td id=\"T_77a7a34e_de25_11e9_9afb_acde48001122row1_col1\" class=\"data row1 col1\" >3.82%</td>\n",
       "            </tr>\n",
       "            <tr>\n",
       "                        <th id=\"T_77a7a34e_de25_11e9_9afb_acde48001122level0_row2\" class=\"row_heading level0 row2\" >15-19</th>\n",
       "                        <td id=\"T_77a7a34e_de25_11e9_9afb_acde48001122row2_col0\" class=\"data row2 col0\" >107</td>\n",
       "                        <td id=\"T_77a7a34e_de25_11e9_9afb_acde48001122row2_col1\" class=\"data row2 col1\" >18.58%</td>\n",
       "            </tr>\n",
       "            <tr>\n",
       "                        <th id=\"T_77a7a34e_de25_11e9_9afb_acde48001122level0_row3\" class=\"row_heading level0 row3\" >20-24</th>\n",
       "                        <td id=\"T_77a7a34e_de25_11e9_9afb_acde48001122row3_col0\" class=\"data row3 col0\" >258</td>\n",
       "                        <td id=\"T_77a7a34e_de25_11e9_9afb_acde48001122row3_col1\" class=\"data row3 col1\" >44.79%</td>\n",
       "            </tr>\n",
       "            <tr>\n",
       "                        <th id=\"T_77a7a34e_de25_11e9_9afb_acde48001122level0_row4\" class=\"row_heading level0 row4\" >25-29</th>\n",
       "                        <td id=\"T_77a7a34e_de25_11e9_9afb_acde48001122row4_col0\" class=\"data row4 col0\" >77</td>\n",
       "                        <td id=\"T_77a7a34e_de25_11e9_9afb_acde48001122row4_col1\" class=\"data row4 col1\" >13.37%</td>\n",
       "            </tr>\n",
       "            <tr>\n",
       "                        <th id=\"T_77a7a34e_de25_11e9_9afb_acde48001122level0_row5\" class=\"row_heading level0 row5\" >30-34</th>\n",
       "                        <td id=\"T_77a7a34e_de25_11e9_9afb_acde48001122row5_col0\" class=\"data row5 col0\" >52</td>\n",
       "                        <td id=\"T_77a7a34e_de25_11e9_9afb_acde48001122row5_col1\" class=\"data row5 col1\" >9.03%</td>\n",
       "            </tr>\n",
       "            <tr>\n",
       "                        <th id=\"T_77a7a34e_de25_11e9_9afb_acde48001122level0_row6\" class=\"row_heading level0 row6\" >35-39</th>\n",
       "                        <td id=\"T_77a7a34e_de25_11e9_9afb_acde48001122row6_col0\" class=\"data row6 col0\" >31</td>\n",
       "                        <td id=\"T_77a7a34e_de25_11e9_9afb_acde48001122row6_col1\" class=\"data row6 col1\" >5.38%</td>\n",
       "            </tr>\n",
       "            <tr>\n",
       "                        <th id=\"T_77a7a34e_de25_11e9_9afb_acde48001122level0_row7\" class=\"row_heading level0 row7\" >40+</th>\n",
       "                        <td id=\"T_77a7a34e_de25_11e9_9afb_acde48001122row7_col0\" class=\"data row7 col0\" >12</td>\n",
       "                        <td id=\"T_77a7a34e_de25_11e9_9afb_acde48001122row7_col1\" class=\"data row7 col1\" >2.08%</td>\n",
       "            </tr>\n",
       "    </tbody></table>"
      ],
      "text/plain": [
       "<pandas.io.formats.style.Styler at 0x11c5fe320>"
      ]
     },
     "execution_count": 8,
     "metadata": {},
     "output_type": "execute_result"
    }
   ],
   "source": [
    "ages_df = df.copy()\n",
    "\n",
    "bins =        [0,       9,        14,          19,         24,         29,         34,         39,       200]\n",
    "labels = [  \"<10\",   \"10-14\",    \"15-19\",     \"20-24\",     \"25-29\",   \"30-34\",    \"35-39\",     \"40+\"   ]\n",
    "\n",
    "ages_df[\"Age Group\"] = pd.cut(ages_df[\"Age\"], bins, labels=labels)\n",
    "\n",
    "age_groups = ages_df.groupby('Age Group')\n",
    "\n",
    "ages_total_counts = age_groups[\"SN\"].nunique()\n",
    "ages_percentages = (ages_total_counts/total_players) * 100\n",
    "\n",
    "ages_summary = pd.DataFrame({\n",
    "    \"Total Count\" : ages_total_counts, \n",
    "    \"Percentage of Players\" : ages_percentages\n",
    "})\n",
    "\n",
    "ages_summary.style.format({\n",
    "    'Percentage of Players' : '{:,.2f}%'\n",
    "})"
   ]
  },
  {
   "cell_type": "markdown",
   "metadata": {},
   "source": [
    "## Purchasing Analysis (Age)"
   ]
  },
  {
   "cell_type": "markdown",
   "metadata": {},
   "source": [
    "* Bin the purchase_data data frame by age\n",
    "\n",
    "\n",
    "* Run basic calculations to obtain purchase count, avg. purchase price, avg. purchase total per person etc. in the table below\n",
    "\n",
    "\n",
    "* Create a summary data frame to hold the results\n",
    "\n",
    "\n",
    "* Optional: give the displayed data cleaner formatting\n",
    "\n",
    "\n",
    "* Display the summary data frame"
   ]
  },
  {
   "cell_type": "code",
   "execution_count": 13,
   "metadata": {},
   "outputs": [
    {
     "data": {
      "text/html": [
       "<style  type=\"text/css\" >\n",
       "</style><table id=\"T_ec568400_de28_11e9_9afb_acde48001122\" ><thead>    <tr>        <th class=\"blank level0\" ></th>        <th class=\"col_heading level0 col0\" >Purchase Count</th>        <th class=\"col_heading level0 col1\" >Average Purchase Price</th>        <th class=\"col_heading level0 col2\" >Total Purchase Value</th>        <th class=\"col_heading level0 col3\" >Average Total Purchase Per Person</th>    </tr>    <tr>        <th class=\"index_name level0\" >Age Group</th>        <th class=\"blank\" ></th>        <th class=\"blank\" ></th>        <th class=\"blank\" ></th>        <th class=\"blank\" ></th>    </tr></thead><tbody>\n",
       "                <tr>\n",
       "                        <th id=\"T_ec568400_de28_11e9_9afb_acde48001122level0_row0\" class=\"row_heading level0 row0\" >10-14</th>\n",
       "                        <td id=\"T_ec568400_de28_11e9_9afb_acde48001122row0_col0\" class=\"data row0 col0\" >28</td>\n",
       "                        <td id=\"T_ec568400_de28_11e9_9afb_acde48001122row0_col1\" class=\"data row0 col1\" >$2.96</td>\n",
       "                        <td id=\"T_ec568400_de28_11e9_9afb_acde48001122row0_col2\" class=\"data row0 col2\" >$82.78</td>\n",
       "                        <td id=\"T_ec568400_de28_11e9_9afb_acde48001122row0_col3\" class=\"data row0 col3\" >$3.76</td>\n",
       "            </tr>\n",
       "            <tr>\n",
       "                        <th id=\"T_ec568400_de28_11e9_9afb_acde48001122level0_row1\" class=\"row_heading level0 row1\" >15-19</th>\n",
       "                        <td id=\"T_ec568400_de28_11e9_9afb_acde48001122row1_col0\" class=\"data row1 col0\" >136</td>\n",
       "                        <td id=\"T_ec568400_de28_11e9_9afb_acde48001122row1_col1\" class=\"data row1 col1\" >$3.04</td>\n",
       "                        <td id=\"T_ec568400_de28_11e9_9afb_acde48001122row1_col2\" class=\"data row1 col2\" >$412.89</td>\n",
       "                        <td id=\"T_ec568400_de28_11e9_9afb_acde48001122row1_col3\" class=\"data row1 col3\" >$3.86</td>\n",
       "            </tr>\n",
       "            <tr>\n",
       "                        <th id=\"T_ec568400_de28_11e9_9afb_acde48001122level0_row2\" class=\"row_heading level0 row2\" >20-24</th>\n",
       "                        <td id=\"T_ec568400_de28_11e9_9afb_acde48001122row2_col0\" class=\"data row2 col0\" >365</td>\n",
       "                        <td id=\"T_ec568400_de28_11e9_9afb_acde48001122row2_col1\" class=\"data row2 col1\" >$3.05</td>\n",
       "                        <td id=\"T_ec568400_de28_11e9_9afb_acde48001122row2_col2\" class=\"data row2 col2\" >$1,114.06</td>\n",
       "                        <td id=\"T_ec568400_de28_11e9_9afb_acde48001122row2_col3\" class=\"data row2 col3\" >$4.32</td>\n",
       "            </tr>\n",
       "            <tr>\n",
       "                        <th id=\"T_ec568400_de28_11e9_9afb_acde48001122level0_row3\" class=\"row_heading level0 row3\" >25-29</th>\n",
       "                        <td id=\"T_ec568400_de28_11e9_9afb_acde48001122row3_col0\" class=\"data row3 col0\" >101</td>\n",
       "                        <td id=\"T_ec568400_de28_11e9_9afb_acde48001122row3_col1\" class=\"data row3 col1\" >$2.90</td>\n",
       "                        <td id=\"T_ec568400_de28_11e9_9afb_acde48001122row3_col2\" class=\"data row3 col2\" >$293.00</td>\n",
       "                        <td id=\"T_ec568400_de28_11e9_9afb_acde48001122row3_col3\" class=\"data row3 col3\" >$3.81</td>\n",
       "            </tr>\n",
       "            <tr>\n",
       "                        <th id=\"T_ec568400_de28_11e9_9afb_acde48001122level0_row4\" class=\"row_heading level0 row4\" >30-34</th>\n",
       "                        <td id=\"T_ec568400_de28_11e9_9afb_acde48001122row4_col0\" class=\"data row4 col0\" >73</td>\n",
       "                        <td id=\"T_ec568400_de28_11e9_9afb_acde48001122row4_col1\" class=\"data row4 col1\" >$2.93</td>\n",
       "                        <td id=\"T_ec568400_de28_11e9_9afb_acde48001122row4_col2\" class=\"data row4 col2\" >$214.00</td>\n",
       "                        <td id=\"T_ec568400_de28_11e9_9afb_acde48001122row4_col3\" class=\"data row4 col3\" >$4.12</td>\n",
       "            </tr>\n",
       "            <tr>\n",
       "                        <th id=\"T_ec568400_de28_11e9_9afb_acde48001122level0_row5\" class=\"row_heading level0 row5\" >35-39</th>\n",
       "                        <td id=\"T_ec568400_de28_11e9_9afb_acde48001122row5_col0\" class=\"data row5 col0\" >41</td>\n",
       "                        <td id=\"T_ec568400_de28_11e9_9afb_acde48001122row5_col1\" class=\"data row5 col1\" >$3.60</td>\n",
       "                        <td id=\"T_ec568400_de28_11e9_9afb_acde48001122row5_col2\" class=\"data row5 col2\" >$147.67</td>\n",
       "                        <td id=\"T_ec568400_de28_11e9_9afb_acde48001122row5_col3\" class=\"data row5 col3\" >$4.76</td>\n",
       "            </tr>\n",
       "            <tr>\n",
       "                        <th id=\"T_ec568400_de28_11e9_9afb_acde48001122level0_row6\" class=\"row_heading level0 row6\" >40+</th>\n",
       "                        <td id=\"T_ec568400_de28_11e9_9afb_acde48001122row6_col0\" class=\"data row6 col0\" >13</td>\n",
       "                        <td id=\"T_ec568400_de28_11e9_9afb_acde48001122row6_col1\" class=\"data row6 col1\" >$2.94</td>\n",
       "                        <td id=\"T_ec568400_de28_11e9_9afb_acde48001122row6_col2\" class=\"data row6 col2\" >$38.24</td>\n",
       "                        <td id=\"T_ec568400_de28_11e9_9afb_acde48001122row6_col3\" class=\"data row6 col3\" >$3.19</td>\n",
       "            </tr>\n",
       "            <tr>\n",
       "                        <th id=\"T_ec568400_de28_11e9_9afb_acde48001122level0_row7\" class=\"row_heading level0 row7\" ><10</th>\n",
       "                        <td id=\"T_ec568400_de28_11e9_9afb_acde48001122row7_col0\" class=\"data row7 col0\" >23</td>\n",
       "                        <td id=\"T_ec568400_de28_11e9_9afb_acde48001122row7_col1\" class=\"data row7 col1\" >$3.35</td>\n",
       "                        <td id=\"T_ec568400_de28_11e9_9afb_acde48001122row7_col2\" class=\"data row7 col2\" >$77.13</td>\n",
       "                        <td id=\"T_ec568400_de28_11e9_9afb_acde48001122row7_col3\" class=\"data row7 col3\" >$4.54</td>\n",
       "            </tr>\n",
       "    </tbody></table>"
      ],
      "text/plain": [
       "<pandas.io.formats.style.Styler at 0x11da9ff28>"
      ]
     },
     "execution_count": 13,
     "metadata": {},
     "output_type": "execute_result"
    }
   ],
   "source": [
    "ages_df = df.copy()\n",
    "\n",
    "bins =        [0,       9,        14,          19,         24,         29,         34,         39,       200]\n",
    "labels = [  \"<10\",   \"10-14\",    \"15-19\",     \"20-24\",     \"25-29\",   \"30-34\",    \"35-39\",     \"40+\"   ]\n",
    "ages_df[\"Age Group\"] = pd.cut(ages_df[\"Age\"], bins, labels=labels)\n",
    "age_groups = ages_df.groupby('Age Group')\n",
    "\n",
    "age_purchase_counts = age_groups[\"Purchase ID\"].count()\n",
    "age_purchase_avg = age_groups[\"Price\"].mean()\n",
    "age_total_purch_val = age_groups[\"Price\"].sum()\n",
    "purchase_per_person_ave = age_total_purch_val / ages_total_counts\n",
    "\n",
    "\n",
    "ages_purchases_summary = pd.DataFrame({\n",
    "    \"Purchase Count\" : age_purchase_counts, \n",
    "    \"Average Purchase Price\" : age_purchase_avg, \n",
    "    \"Total Purchase Value\" : age_total_purch_val, \n",
    "    \"Average Total Purchase Per Person\" : purchase_per_person_ave\n",
    "})\n",
    "\n",
    "target_row = ages_purchases_summary.iloc[[0],:]\n",
    "ages_purchases_summary = ages_purchases_summary.drop(ages_purchases_summary.index[0])\n",
    "ages_purchases_summary\n",
    "ages_purchases_summary.append(target_row).style.format({\n",
    "    \"Average Purchase Price\" : \"${:,.2f}\",\n",
    "    \"Total Purchase Value\" : \"${:,.2f}\",\n",
    "    \"Average Total Purchase Per Person\" : \"${:,.2f}\"\n",
    "})\n"
   ]
  },
  {
   "cell_type": "markdown",
   "metadata": {},
   "source": [
    "## Top Spenders"
   ]
  },
  {
   "cell_type": "markdown",
   "metadata": {},
   "source": [
    "* Run basic calculations to obtain the results in the table below\n",
    "\n",
    "\n",
    "* Create a summary data frame to hold the results\n",
    "\n",
    "\n",
    "* Sort the total purchase value column in descending order\n",
    "\n",
    "\n",
    "* Optional: give the displayed data cleaner formatting\n",
    "\n",
    "\n",
    "* Display a preview of the summary data frame\n",
    "\n"
   ]
  },
  {
   "cell_type": "code",
   "execution_count": null,
   "metadata": {},
   "outputs": [],
   "source": [
    "sn_spenders_df = df.copy()\n",
    "\n",
    "sn_columns = ['SN','Purchase Count', 'Average Purchase Price', 'Total Purchase Value']\n",
    "\n",
    "sn_group = sn_spenders_df.groupby('SN')\n",
    "players = players_df['SN'].tolist()\n",
    "sn_purchase_counts = sn_group['Purchase ID'].count().tolist()\n",
    "sn_avg_purch = sn_group[\"Price\"].mean().tolist()\n",
    "sn_total_purch = sn_group[\"Price\"].sum().tolist()\n",
    "\n",
    "data = []\n",
    "for i,val in enumerate(sn_purchase_counts):\n",
    "    data.append([players[i], sn_purchase_counts[i], sn_avg_purch[i], sn_total_purch[i]])\n",
    "\n",
    "sn_summary = pd.DataFrame(\n",
    "   data\n",
    ",columns = sn_columns)\n",
    "\n",
    "sn_summary.set_index(\"SN\")\n",
    "\n",
    "# sn_summary.sort_values(by=['Total Purchase Value'], ascending=False)\n",
    "\n"
   ]
  },
  {
   "cell_type": "markdown",
   "metadata": {},
   "source": [
    "## Most Popular Items"
   ]
  },
  {
   "cell_type": "markdown",
   "metadata": {},
   "source": [
    "* Retrieve the Item ID, Item Name, and Item Price columns\n",
    "\n",
    "\n",
    "* Group by Item ID and Item Name. Perform calculations to obtain purchase count, item price, and total purchase value\n",
    "\n",
    "\n",
    "* Create a summary data frame to hold the results\n",
    "\n",
    "\n",
    "* Sort the purchase count column in descending order\n",
    "\n",
    "\n",
    "* Optional: give the displayed data cleaner formatting\n",
    "\n",
    "\n",
    "* Display a preview of the summary data frame\n",
    "\n"
   ]
  },
  {
   "cell_type": "code",
   "execution_count": null,
   "metadata": {},
   "outputs": [],
   "source": []
  },
  {
   "cell_type": "markdown",
   "metadata": {},
   "source": [
    "## Most Profitable Items"
   ]
  },
  {
   "cell_type": "markdown",
   "metadata": {},
   "source": [
    "* Sort the above table by total purchase value in descending order\n",
    "\n",
    "\n",
    "* Optional: give the displayed data cleaner formatting\n",
    "\n",
    "\n",
    "* Display a preview of the data frame\n",
    "\n"
   ]
  },
  {
   "cell_type": "code",
   "execution_count": null,
   "metadata": {
    "scrolled": true
   },
   "outputs": [],
   "source": []
  }
 ],
 "metadata": {
  "anaconda-cloud": {},
  "kernel_info": {
   "name": "python3"
  },
  "kernelspec": {
   "display_name": "Python 3",
   "language": "python",
   "name": "python3"
  },
  "language_info": {
   "codemirror_mode": {
    "name": "ipython",
    "version": 3
   },
   "file_extension": ".py",
   "mimetype": "text/x-python",
   "name": "python",
   "nbconvert_exporter": "python",
   "pygments_lexer": "ipython3",
   "version": "3.7.3"
  },
  "latex_envs": {
   "LaTeX_envs_menu_present": true,
   "autoclose": false,
   "autocomplete": true,
   "bibliofile": "biblio.bib",
   "cite_by": "apalike",
   "current_citInitial": 1,
   "eqLabelWithNumbers": true,
   "eqNumInitial": 1,
   "hotkeys": {
    "equation": "Ctrl-E",
    "itemize": "Ctrl-I"
   },
   "labels_anchors": false,
   "latex_user_defs": false,
   "report_style_numbering": false,
   "user_envs_cfg": false
  },
  "nteract": {
   "version": "0.2.0"
  }
 },
 "nbformat": 4,
 "nbformat_minor": 2
}
